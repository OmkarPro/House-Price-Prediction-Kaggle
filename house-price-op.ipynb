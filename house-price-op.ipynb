{
 "cells": [
  {
   "cell_type": "code",
   "execution_count": 1,
   "id": "catholic-killing",
   "metadata": {
    "_cell_guid": "b1076dfc-b9ad-4769-8c92-a6c4dae69d19",
    "_uuid": "8f2839f25d086af736a60e9eeb907d3b93b6e0e5",
    "execution": {
     "iopub.execute_input": "2021-05-17T11:42:26.927456Z",
     "iopub.status.busy": "2021-05-17T11:42:26.926256Z",
     "iopub.status.idle": "2021-05-17T11:42:26.940052Z",
     "shell.execute_reply": "2021-05-17T11:42:26.941200Z"
    },
    "papermill": {
     "duration": 0.054319,
     "end_time": "2021-05-17T11:42:26.941777",
     "exception": false,
     "start_time": "2021-05-17T11:42:26.887458",
     "status": "completed"
    },
    "tags": []
   },
   "outputs": [
    {
     "name": "stdout",
     "output_type": "stream",
     "text": [
      "/kaggle/input/house-prices-advanced-regression-techniques/sample_submission.csv\n",
      "/kaggle/input/house-prices-advanced-regression-techniques/data_description.txt\n",
      "/kaggle/input/house-prices-advanced-regression-techniques/train.csv\n",
      "/kaggle/input/house-prices-advanced-regression-techniques/test.csv\n"
     ]
    }
   ],
   "source": [
    "# This Python 3 environment comes with many helpful analytics libraries installed\n",
    "# It is defined by the kaggle/python Docker image: https://github.com/kaggle/docker-python\n",
    "# For example, here's several helpful packages to load\n",
    "\n",
    "import numpy as np # linear algebra\n",
    "import pandas as pd # data processing, CSV file I/O (e.g. pd.read_csv)\n",
    "\n",
    "# Input data files are available in the read-only \"../input/\" directory\n",
    "# For example, running this (by clicking run or pressing Shift+Enter) will list all files under the input directory\n",
    "\n",
    "import os\n",
    "for dirname, _, filenames in os.walk('/kaggle/input'):\n",
    "    for filename in filenames:\n",
    "        print(os.path.join(dirname, filename))\n",
    "\n",
    "# You can write up to 20GB to the current directory (/kaggle/working/) that gets preserved as output when you create a version using \"Save & Run All\" \n",
    "# You can also write temporary files to /kaggle/temp/, but they won't be saved outside of the current session"
   ]
  },
  {
   "cell_type": "markdown",
   "id": "approved-moisture",
   "metadata": {
    "papermill": {
     "duration": 0.033554,
     "end_time": "2021-05-17T11:42:27.010959",
     "exception": false,
     "start_time": "2021-05-17T11:42:26.977405",
     "status": "completed"
    },
    "tags": []
   },
   "source": [
    "# Importing the required libraries:"
   ]
  },
  {
   "cell_type": "code",
   "execution_count": 2,
   "id": "premium-cliff",
   "metadata": {
    "execution": {
     "iopub.execute_input": "2021-05-17T11:42:27.081735Z",
     "iopub.status.busy": "2021-05-17T11:42:27.081080Z",
     "iopub.status.idle": "2021-05-17T11:42:28.115821Z",
     "shell.execute_reply": "2021-05-17T11:42:28.115052Z"
    },
    "papermill": {
     "duration": 1.071014,
     "end_time": "2021-05-17T11:42:28.116004",
     "exception": false,
     "start_time": "2021-05-17T11:42:27.044990",
     "status": "completed"
    },
    "tags": []
   },
   "outputs": [],
   "source": [
    "import matplotlib.pyplot as plt\n",
    "from sklearn.metrics import mean_squared_error,accuracy_score\n",
    "import math\n",
    "import seaborn as sns"
   ]
  },
  {
   "cell_type": "markdown",
   "id": "royal-warning",
   "metadata": {
    "papermill": {
     "duration": 0.033683,
     "end_time": "2021-05-17T11:42:28.185198",
     "exception": false,
     "start_time": "2021-05-17T11:42:28.151515",
     "status": "completed"
    },
    "tags": []
   },
   "source": [
    "# Importing Data:"
   ]
  },
  {
   "cell_type": "code",
   "execution_count": 3,
   "id": "sustainable-capitol",
   "metadata": {
    "execution": {
     "iopub.execute_input": "2021-05-17T11:42:28.260877Z",
     "iopub.status.busy": "2021-05-17T11:42:28.260154Z",
     "iopub.status.idle": "2021-05-17T11:42:28.372909Z",
     "shell.execute_reply": "2021-05-17T11:42:28.373453Z"
    },
    "papermill": {
     "duration": 0.153314,
     "end_time": "2021-05-17T11:42:28.373667",
     "exception": false,
     "start_time": "2021-05-17T11:42:28.220353",
     "status": "completed"
    },
    "tags": []
   },
   "outputs": [
    {
     "data": {
      "text/html": [
       "<div>\n",
       "<style scoped>\n",
       "    .dataframe tbody tr th:only-of-type {\n",
       "        vertical-align: middle;\n",
       "    }\n",
       "\n",
       "    .dataframe tbody tr th {\n",
       "        vertical-align: top;\n",
       "    }\n",
       "\n",
       "    .dataframe thead th {\n",
       "        text-align: right;\n",
       "    }\n",
       "</style>\n",
       "<table border=\"1\" class=\"dataframe\">\n",
       "  <thead>\n",
       "    <tr style=\"text-align: right;\">\n",
       "      <th></th>\n",
       "      <th>Id</th>\n",
       "      <th>MSSubClass</th>\n",
       "      <th>MSZoning</th>\n",
       "      <th>LotFrontage</th>\n",
       "      <th>LotArea</th>\n",
       "      <th>Street</th>\n",
       "      <th>Alley</th>\n",
       "      <th>LotShape</th>\n",
       "      <th>LandContour</th>\n",
       "      <th>Utilities</th>\n",
       "      <th>...</th>\n",
       "      <th>PoolArea</th>\n",
       "      <th>PoolQC</th>\n",
       "      <th>Fence</th>\n",
       "      <th>MiscFeature</th>\n",
       "      <th>MiscVal</th>\n",
       "      <th>MoSold</th>\n",
       "      <th>YrSold</th>\n",
       "      <th>SaleType</th>\n",
       "      <th>SaleCondition</th>\n",
       "      <th>SalePrice</th>\n",
       "    </tr>\n",
       "  </thead>\n",
       "  <tbody>\n",
       "    <tr>\n",
       "      <th>0</th>\n",
       "      <td>1</td>\n",
       "      <td>60</td>\n",
       "      <td>RL</td>\n",
       "      <td>65.0</td>\n",
       "      <td>8450</td>\n",
       "      <td>Pave</td>\n",
       "      <td>NaN</td>\n",
       "      <td>Reg</td>\n",
       "      <td>Lvl</td>\n",
       "      <td>AllPub</td>\n",
       "      <td>...</td>\n",
       "      <td>0</td>\n",
       "      <td>NaN</td>\n",
       "      <td>NaN</td>\n",
       "      <td>NaN</td>\n",
       "      <td>0</td>\n",
       "      <td>2</td>\n",
       "      <td>2008</td>\n",
       "      <td>WD</td>\n",
       "      <td>Normal</td>\n",
       "      <td>208500</td>\n",
       "    </tr>\n",
       "    <tr>\n",
       "      <th>1</th>\n",
       "      <td>2</td>\n",
       "      <td>20</td>\n",
       "      <td>RL</td>\n",
       "      <td>80.0</td>\n",
       "      <td>9600</td>\n",
       "      <td>Pave</td>\n",
       "      <td>NaN</td>\n",
       "      <td>Reg</td>\n",
       "      <td>Lvl</td>\n",
       "      <td>AllPub</td>\n",
       "      <td>...</td>\n",
       "      <td>0</td>\n",
       "      <td>NaN</td>\n",
       "      <td>NaN</td>\n",
       "      <td>NaN</td>\n",
       "      <td>0</td>\n",
       "      <td>5</td>\n",
       "      <td>2007</td>\n",
       "      <td>WD</td>\n",
       "      <td>Normal</td>\n",
       "      <td>181500</td>\n",
       "    </tr>\n",
       "    <tr>\n",
       "      <th>2</th>\n",
       "      <td>3</td>\n",
       "      <td>60</td>\n",
       "      <td>RL</td>\n",
       "      <td>68.0</td>\n",
       "      <td>11250</td>\n",
       "      <td>Pave</td>\n",
       "      <td>NaN</td>\n",
       "      <td>IR1</td>\n",
       "      <td>Lvl</td>\n",
       "      <td>AllPub</td>\n",
       "      <td>...</td>\n",
       "      <td>0</td>\n",
       "      <td>NaN</td>\n",
       "      <td>NaN</td>\n",
       "      <td>NaN</td>\n",
       "      <td>0</td>\n",
       "      <td>9</td>\n",
       "      <td>2008</td>\n",
       "      <td>WD</td>\n",
       "      <td>Normal</td>\n",
       "      <td>223500</td>\n",
       "    </tr>\n",
       "    <tr>\n",
       "      <th>3</th>\n",
       "      <td>4</td>\n",
       "      <td>70</td>\n",
       "      <td>RL</td>\n",
       "      <td>60.0</td>\n",
       "      <td>9550</td>\n",
       "      <td>Pave</td>\n",
       "      <td>NaN</td>\n",
       "      <td>IR1</td>\n",
       "      <td>Lvl</td>\n",
       "      <td>AllPub</td>\n",
       "      <td>...</td>\n",
       "      <td>0</td>\n",
       "      <td>NaN</td>\n",
       "      <td>NaN</td>\n",
       "      <td>NaN</td>\n",
       "      <td>0</td>\n",
       "      <td>2</td>\n",
       "      <td>2006</td>\n",
       "      <td>WD</td>\n",
       "      <td>Abnorml</td>\n",
       "      <td>140000</td>\n",
       "    </tr>\n",
       "    <tr>\n",
       "      <th>4</th>\n",
       "      <td>5</td>\n",
       "      <td>60</td>\n",
       "      <td>RL</td>\n",
       "      <td>84.0</td>\n",
       "      <td>14260</td>\n",
       "      <td>Pave</td>\n",
       "      <td>NaN</td>\n",
       "      <td>IR1</td>\n",
       "      <td>Lvl</td>\n",
       "      <td>AllPub</td>\n",
       "      <td>...</td>\n",
       "      <td>0</td>\n",
       "      <td>NaN</td>\n",
       "      <td>NaN</td>\n",
       "      <td>NaN</td>\n",
       "      <td>0</td>\n",
       "      <td>12</td>\n",
       "      <td>2008</td>\n",
       "      <td>WD</td>\n",
       "      <td>Normal</td>\n",
       "      <td>250000</td>\n",
       "    </tr>\n",
       "  </tbody>\n",
       "</table>\n",
       "<p>5 rows × 81 columns</p>\n",
       "</div>"
      ],
      "text/plain": [
       "   Id  MSSubClass MSZoning  LotFrontage  LotArea Street Alley LotShape  \\\n",
       "0   1          60       RL         65.0     8450   Pave   NaN      Reg   \n",
       "1   2          20       RL         80.0     9600   Pave   NaN      Reg   \n",
       "2   3          60       RL         68.0    11250   Pave   NaN      IR1   \n",
       "3   4          70       RL         60.0     9550   Pave   NaN      IR1   \n",
       "4   5          60       RL         84.0    14260   Pave   NaN      IR1   \n",
       "\n",
       "  LandContour Utilities  ... PoolArea PoolQC Fence MiscFeature MiscVal MoSold  \\\n",
       "0         Lvl    AllPub  ...        0    NaN   NaN         NaN       0      2   \n",
       "1         Lvl    AllPub  ...        0    NaN   NaN         NaN       0      5   \n",
       "2         Lvl    AllPub  ...        0    NaN   NaN         NaN       0      9   \n",
       "3         Lvl    AllPub  ...        0    NaN   NaN         NaN       0      2   \n",
       "4         Lvl    AllPub  ...        0    NaN   NaN         NaN       0     12   \n",
       "\n",
       "  YrSold  SaleType  SaleCondition  SalePrice  \n",
       "0   2008        WD         Normal     208500  \n",
       "1   2007        WD         Normal     181500  \n",
       "2   2008        WD         Normal     223500  \n",
       "3   2006        WD        Abnorml     140000  \n",
       "4   2008        WD         Normal     250000  \n",
       "\n",
       "[5 rows x 81 columns]"
      ]
     },
     "execution_count": 3,
     "metadata": {},
     "output_type": "execute_result"
    }
   ],
   "source": [
    "train = pd.read_csv(\"../input/house-prices-advanced-regression-techniques/train.csv\")\n",
    "test = pd.read_csv(\"../input/house-prices-advanced-regression-techniques/test.csv\")\n",
    "train.head()"
   ]
  },
  {
   "cell_type": "markdown",
   "id": "inclusive-nebraska",
   "metadata": {
    "papermill": {
     "duration": 0.036896,
     "end_time": "2021-05-17T11:42:28.446934",
     "exception": false,
     "start_time": "2021-05-17T11:42:28.410038",
     "status": "completed"
    },
    "tags": []
   },
   "source": [
    "# Data Analysis:"
   ]
  },
  {
   "cell_type": "code",
   "execution_count": 4,
   "id": "detected-camera",
   "metadata": {
    "execution": {
     "iopub.execute_input": "2021-05-17T11:42:28.523360Z",
     "iopub.status.busy": "2021-05-17T11:42:28.522664Z",
     "iopub.status.idle": "2021-05-17T11:42:28.527047Z",
     "shell.execute_reply": "2021-05-17T11:42:28.527981Z"
    },
    "papermill": {
     "duration": 0.045304,
     "end_time": "2021-05-17T11:42:28.528363",
     "exception": false,
     "start_time": "2021-05-17T11:42:28.483059",
     "status": "completed"
    },
    "tags": []
   },
   "outputs": [
    {
     "name": "stdout",
     "output_type": "stream",
     "text": [
      "(1460, 81)\n",
      "(1459, 80)\n"
     ]
    }
   ],
   "source": [
    "print(train.shape)\n",
    "print(test.shape)"
   ]
  },
  {
   "cell_type": "code",
   "execution_count": 5,
   "id": "ceramic-twist",
   "metadata": {
    "execution": {
     "iopub.execute_input": "2021-05-17T11:42:28.605519Z",
     "iopub.status.busy": "2021-05-17T11:42:28.604861Z",
     "iopub.status.idle": "2021-05-17T11:42:28.628277Z",
     "shell.execute_reply": "2021-05-17T11:42:28.628824Z"
    },
    "papermill": {
     "duration": 0.063505,
     "end_time": "2021-05-17T11:42:28.629043",
     "exception": false,
     "start_time": "2021-05-17T11:42:28.565538",
     "status": "completed"
    },
    "tags": []
   },
   "outputs": [
    {
     "data": {
      "text/plain": [
       "(2919, 81)"
      ]
     },
     "execution_count": 5,
     "metadata": {},
     "output_type": "execute_result"
    }
   ],
   "source": [
    "comp_data = pd.concat((train,test))\n",
    "comp_data_1 = comp_data\n",
    "comp_data.shape"
   ]
  },
  {
   "cell_type": "code",
   "execution_count": 6,
   "id": "spanish-possession",
   "metadata": {
    "execution": {
     "iopub.execute_input": "2021-05-17T11:42:28.705534Z",
     "iopub.status.busy": "2021-05-17T11:42:28.704850Z",
     "iopub.status.idle": "2021-05-17T11:42:28.734224Z",
     "shell.execute_reply": "2021-05-17T11:42:28.734878Z"
    },
    "papermill": {
     "duration": 0.068486,
     "end_time": "2021-05-17T11:42:28.735087",
     "exception": false,
     "start_time": "2021-05-17T11:42:28.666601",
     "status": "completed"
    },
    "tags": []
   },
   "outputs": [
    {
     "name": "stdout",
     "output_type": "stream",
     "text": [
      "<class 'pandas.core.frame.DataFrame'>\n",
      "RangeIndex: 1460 entries, 0 to 1459\n",
      "Data columns (total 81 columns):\n",
      " #   Column         Non-Null Count  Dtype  \n",
      "---  ------         --------------  -----  \n",
      " 0   Id             1460 non-null   int64  \n",
      " 1   MSSubClass     1460 non-null   int64  \n",
      " 2   MSZoning       1460 non-null   object \n",
      " 3   LotFrontage    1201 non-null   float64\n",
      " 4   LotArea        1460 non-null   int64  \n",
      " 5   Street         1460 non-null   object \n",
      " 6   Alley          91 non-null     object \n",
      " 7   LotShape       1460 non-null   object \n",
      " 8   LandContour    1460 non-null   object \n",
      " 9   Utilities      1460 non-null   object \n",
      " 10  LotConfig      1460 non-null   object \n",
      " 11  LandSlope      1460 non-null   object \n",
      " 12  Neighborhood   1460 non-null   object \n",
      " 13  Condition1     1460 non-null   object \n",
      " 14  Condition2     1460 non-null   object \n",
      " 15  BldgType       1460 non-null   object \n",
      " 16  HouseStyle     1460 non-null   object \n",
      " 17  OverallQual    1460 non-null   int64  \n",
      " 18  OverallCond    1460 non-null   int64  \n",
      " 19  YearBuilt      1460 non-null   int64  \n",
      " 20  YearRemodAdd   1460 non-null   int64  \n",
      " 21  RoofStyle      1460 non-null   object \n",
      " 22  RoofMatl       1460 non-null   object \n",
      " 23  Exterior1st    1460 non-null   object \n",
      " 24  Exterior2nd    1460 non-null   object \n",
      " 25  MasVnrType     1452 non-null   object \n",
      " 26  MasVnrArea     1452 non-null   float64\n",
      " 27  ExterQual      1460 non-null   object \n",
      " 28  ExterCond      1460 non-null   object \n",
      " 29  Foundation     1460 non-null   object \n",
      " 30  BsmtQual       1423 non-null   object \n",
      " 31  BsmtCond       1423 non-null   object \n",
      " 32  BsmtExposure   1422 non-null   object \n",
      " 33  BsmtFinType1   1423 non-null   object \n",
      " 34  BsmtFinSF1     1460 non-null   int64  \n",
      " 35  BsmtFinType2   1422 non-null   object \n",
      " 36  BsmtFinSF2     1460 non-null   int64  \n",
      " 37  BsmtUnfSF      1460 non-null   int64  \n",
      " 38  TotalBsmtSF    1460 non-null   int64  \n",
      " 39  Heating        1460 non-null   object \n",
      " 40  HeatingQC      1460 non-null   object \n",
      " 41  CentralAir     1460 non-null   object \n",
      " 42  Electrical     1459 non-null   object \n",
      " 43  1stFlrSF       1460 non-null   int64  \n",
      " 44  2ndFlrSF       1460 non-null   int64  \n",
      " 45  LowQualFinSF   1460 non-null   int64  \n",
      " 46  GrLivArea      1460 non-null   int64  \n",
      " 47  BsmtFullBath   1460 non-null   int64  \n",
      " 48  BsmtHalfBath   1460 non-null   int64  \n",
      " 49  FullBath       1460 non-null   int64  \n",
      " 50  HalfBath       1460 non-null   int64  \n",
      " 51  BedroomAbvGr   1460 non-null   int64  \n",
      " 52  KitchenAbvGr   1460 non-null   int64  \n",
      " 53  KitchenQual    1460 non-null   object \n",
      " 54  TotRmsAbvGrd   1460 non-null   int64  \n",
      " 55  Functional     1460 non-null   object \n",
      " 56  Fireplaces     1460 non-null   int64  \n",
      " 57  FireplaceQu    770 non-null    object \n",
      " 58  GarageType     1379 non-null   object \n",
      " 59  GarageYrBlt    1379 non-null   float64\n",
      " 60  GarageFinish   1379 non-null   object \n",
      " 61  GarageCars     1460 non-null   int64  \n",
      " 62  GarageArea     1460 non-null   int64  \n",
      " 63  GarageQual     1379 non-null   object \n",
      " 64  GarageCond     1379 non-null   object \n",
      " 65  PavedDrive     1460 non-null   object \n",
      " 66  WoodDeckSF     1460 non-null   int64  \n",
      " 67  OpenPorchSF    1460 non-null   int64  \n",
      " 68  EnclosedPorch  1460 non-null   int64  \n",
      " 69  3SsnPorch      1460 non-null   int64  \n",
      " 70  ScreenPorch    1460 non-null   int64  \n",
      " 71  PoolArea       1460 non-null   int64  \n",
      " 72  PoolQC         7 non-null      object \n",
      " 73  Fence          281 non-null    object \n",
      " 74  MiscFeature    54 non-null     object \n",
      " 75  MiscVal        1460 non-null   int64  \n",
      " 76  MoSold         1460 non-null   int64  \n",
      " 77  YrSold         1460 non-null   int64  \n",
      " 78  SaleType       1460 non-null   object \n",
      " 79  SaleCondition  1460 non-null   object \n",
      " 80  SalePrice      1460 non-null   int64  \n",
      "dtypes: float64(3), int64(35), object(43)\n",
      "memory usage: 924.0+ KB\n"
     ]
    }
   ],
   "source": [
    "train.info()"
   ]
  },
  {
   "cell_type": "code",
   "execution_count": 7,
   "id": "moving-profile",
   "metadata": {
    "execution": {
     "iopub.execute_input": "2021-05-17T11:42:28.812445Z",
     "iopub.status.busy": "2021-05-17T11:42:28.811724Z",
     "iopub.status.idle": "2021-05-17T11:42:29.934688Z",
     "shell.execute_reply": "2021-05-17T11:42:29.935197Z"
    },
    "papermill": {
     "duration": 1.162736,
     "end_time": "2021-05-17T11:42:29.935415",
     "exception": false,
     "start_time": "2021-05-17T11:42:28.772679",
     "status": "completed"
    },
    "tags": []
   },
   "outputs": [
    {
     "data": {
      "text/plain": [
       "<AxesSubplot:>"
      ]
     },
     "execution_count": 7,
     "metadata": {},
     "output_type": "execute_result"
    },
    {
     "data": {
      "image/png": "[encoded data removed]",
      "text/plain": [
       "<Figure size 1152x648 with 2 Axes>"
      ]
     },
     "metadata": {
      "needs_background": "light"
     },
     "output_type": "display_data"
    }
   ],
   "source": [
    "plt.figure(figsize=(16,9))\n",
    "sns.heatmap(train.isnull())"
   ]
  },
  {
   "cell_type": "code",
   "execution_count": 8,
   "id": "complex-healing",
   "metadata": {
    "execution": {
     "iopub.execute_input": "2021-05-17T11:42:30.031688Z",
     "iopub.status.busy": "2021-05-17T11:42:30.030848Z",
     "iopub.status.idle": "2021-05-17T11:42:30.053141Z",
     "shell.execute_reply": "2021-05-17T11:42:30.053661Z"
    },
    "papermill": {
     "duration": 0.076712,
     "end_time": "2021-05-17T11:42:30.053887",
     "exception": false,
     "start_time": "2021-05-17T11:42:29.977175",
     "status": "completed"
    },
    "tags": []
   },
   "outputs": [
    {
     "data": {
      "text/plain": [
       "Electrical      0.000685\n",
       "MasVnrType      0.005479\n",
       "MasVnrArea      0.005479\n",
       "BsmtQual        0.025342\n",
       "BsmtCond        0.025342\n",
       "BsmtFinType1    0.025342\n",
       "BsmtExposure    0.026027\n",
       "BsmtFinType2    0.026027\n",
       "GarageCond      0.055479\n",
       "GarageQual      0.055479\n",
       "GarageFinish    0.055479\n",
       "GarageType      0.055479\n",
       "GarageYrBlt     0.055479\n",
       "LotFrontage     0.177397\n",
       "FireplaceQu     0.472603\n",
       "Fence           0.807534\n",
       "Alley           0.937671\n",
       "MiscFeature     0.963014\n",
       "PoolQC          0.995205\n",
       "dtype: float64"
      ]
     },
     "execution_count": 8,
     "metadata": {},
     "output_type": "execute_result"
    }
   ],
   "source": [
    "missing = train.isnull().sum() / len(train)\n",
    "missing = missing[missing > 0]\n",
    "missing.sort_values(inplace=True)\n",
    "missing"
   ]
  },
  {
   "cell_type": "markdown",
   "id": "phantom-sculpture",
   "metadata": {
    "papermill": {
     "duration": 0.04244,
     "end_time": "2021-05-17T11:42:30.136912",
     "exception": false,
     "start_time": "2021-05-17T11:42:30.094472",
     "status": "completed"
    },
    "tags": []
   },
   "source": [
    "# Training Data Missing Values Handling"
   ]
  },
  {
   "cell_type": "code",
   "execution_count": 9,
   "id": "structural-ethics",
   "metadata": {
    "execution": {
     "iopub.execute_input": "2021-05-17T11:42:30.222797Z",
     "iopub.status.busy": "2021-05-17T11:42:30.222094Z",
     "iopub.status.idle": "2021-05-17T11:42:30.228891Z",
     "shell.execute_reply": "2021-05-17T11:42:30.228293Z"
    },
    "papermill": {
     "duration": 0.050432,
     "end_time": "2021-05-17T11:42:30.229066",
     "exception": false,
     "start_time": "2021-05-17T11:42:30.178634",
     "status": "completed"
    },
    "tags": []
   },
   "outputs": [],
   "source": [
    "## So from the above heatmap let us start the work of filling Missing Values:\n",
    "train['LotFrontage'] = train['LotFrontage'] .fillna(train['LotFrontage'].mean())"
   ]
  },
  {
   "cell_type": "code",
   "execution_count": 10,
   "id": "rapid-lodging",
   "metadata": {
    "execution": {
     "iopub.execute_input": "2021-05-17T11:42:30.315555Z",
     "iopub.status.busy": "2021-05-17T11:42:30.314894Z",
     "iopub.status.idle": "2021-05-17T11:42:30.318120Z",
     "shell.execute_reply": "2021-05-17T11:42:30.317623Z"
    },
    "papermill": {
     "duration": 0.049186,
     "end_time": "2021-05-17T11:42:30.318278",
     "exception": false,
     "start_time": "2021-05-17T11:42:30.269092",
     "status": "completed"
    },
    "tags": []
   },
   "outputs": [],
   "source": [
    "## The alley feature has maximum missing values so lets drop it:\n",
    "train.drop(['Alley'],axis=1,inplace=True)"
   ]
  },
  {
   "cell_type": "code",
   "execution_count": 11,
   "id": "valued-basic",
   "metadata": {
    "execution": {
     "iopub.execute_input": "2021-05-17T11:42:30.409684Z",
     "iopub.status.busy": "2021-05-17T11:42:30.408994Z",
     "iopub.status.idle": "2021-05-17T11:42:30.410936Z",
     "shell.execute_reply": "2021-05-17T11:42:30.411445Z"
    },
    "papermill": {
     "duration": 0.054457,
     "end_time": "2021-05-17T11:42:30.411657",
     "exception": false,
     "start_time": "2021-05-17T11:42:30.357200",
     "status": "completed"
    },
    "tags": []
   },
   "outputs": [],
   "source": [
    "## Now let us handle Bsmt features:\n",
    "train['BsmtCond'] = train['BsmtCond'].fillna(train['BsmtCond'].mode()[0])\n",
    "train['BsmtQual'] = train['BsmtQual'].fillna(train['BsmtQual'].mode()[0])\n",
    "train['BsmtExposure'] = train['BsmtExposure'].fillna(train['BsmtExposure'].mode()[0])\n",
    "train['BsmtFinType2'] = train['BsmtFinType2'].fillna(train['BsmtFinType2'].mode()[0])"
   ]
  },
  {
   "cell_type": "code",
   "execution_count": 12,
   "id": "mounted-equation",
   "metadata": {
    "execution": {
     "iopub.execute_input": "2021-05-17T11:42:30.495844Z",
     "iopub.status.busy": "2021-05-17T11:42:30.495218Z",
     "iopub.status.idle": "2021-05-17T11:42:30.502444Z",
     "shell.execute_reply": "2021-05-17T11:42:30.502959Z"
    },
    "papermill": {
     "duration": 0.050934,
     "end_time": "2021-05-17T11:42:30.503151",
     "exception": false,
     "start_time": "2021-05-17T11:42:30.452217",
     "status": "completed"
    },
    "tags": []
   },
   "outputs": [],
   "source": [
    "train['FireplaceQu'] = train['FireplaceQu'].fillna(train['FireplaceQu'].mode()[0])\n",
    "train['GarageType'] = train['GarageType'].fillna(train['GarageType'].mode()[0])"
   ]
  },
  {
   "cell_type": "code",
   "execution_count": 13,
   "id": "jewish-spectrum",
   "metadata": {
    "execution": {
     "iopub.execute_input": "2021-05-17T11:42:30.585752Z",
     "iopub.status.busy": "2021-05-17T11:42:30.584836Z",
     "iopub.status.idle": "2021-05-17T11:42:30.596985Z",
     "shell.execute_reply": "2021-05-17T11:42:30.596460Z"
    },
    "papermill": {
     "duration": 0.054397,
     "end_time": "2021-05-17T11:42:30.597132",
     "exception": false,
     "start_time": "2021-05-17T11:42:30.542735",
     "status": "completed"
    },
    "tags": []
   },
   "outputs": [],
   "source": [
    "## Let us work now all Garage features at once:\n",
    "train.drop(['GarageYrBlt'],axis=1,inplace=True)\n",
    "train['GarageFinish'] = train['GarageFinish'].fillna(train['GarageFinish'].mode()[0])\n",
    "train['GarageQual'] = train['GarageQual'].fillna(train['GarageQual'].mode()[0])\n",
    "train['GarageCond'] = train['GarageCond'].fillna(train['GarageCond'].mode()[0])"
   ]
  },
  {
   "cell_type": "code",
   "execution_count": 14,
   "id": "interested-mauritius",
   "metadata": {
    "execution": {
     "iopub.execute_input": "2021-05-17T11:42:30.684549Z",
     "iopub.status.busy": "2021-05-17T11:42:30.683618Z",
     "iopub.status.idle": "2021-05-17T11:42:30.686929Z",
     "shell.execute_reply": "2021-05-17T11:42:30.686443Z"
    },
    "papermill": {
     "duration": 0.049253,
     "end_time": "2021-05-17T11:42:30.687065",
     "exception": false,
     "start_time": "2021-05-17T11:42:30.637812",
     "status": "completed"
    },
    "tags": []
   },
   "outputs": [],
   "source": [
    "## Now let us drop all the highly missing values Columns:\n",
    "train.drop(['PoolQC','Fence','MiscFeature'],axis=1,inplace=True)"
   ]
  },
  {
   "cell_type": "code",
   "execution_count": 15,
   "id": "identical-march",
   "metadata": {
    "execution": {
     "iopub.execute_input": "2021-05-17T11:42:30.771112Z",
     "iopub.status.busy": "2021-05-17T11:42:30.770276Z",
     "iopub.status.idle": "2021-05-17T11:42:30.775054Z",
     "shell.execute_reply": "2021-05-17T11:42:30.774563Z"
    },
    "papermill": {
     "duration": 0.048692,
     "end_time": "2021-05-17T11:42:30.775199",
     "exception": false,
     "start_time": "2021-05-17T11:42:30.726507",
     "status": "completed"
    },
    "tags": []
   },
   "outputs": [
    {
     "data": {
      "text/plain": [
       "(1460, 76)"
      ]
     },
     "execution_count": 15,
     "metadata": {},
     "output_type": "execute_result"
    }
   ],
   "source": [
    "train.shape"
   ]
  },
  {
   "cell_type": "code",
   "execution_count": 16,
   "id": "usual-lucas",
   "metadata": {
    "execution": {
     "iopub.execute_input": "2021-05-17T11:42:30.861635Z",
     "iopub.status.busy": "2021-05-17T11:42:30.860773Z",
     "iopub.status.idle": "2021-05-17T11:42:30.865183Z",
     "shell.execute_reply": "2021-05-17T11:42:30.864695Z"
    },
    "papermill": {
     "duration": 0.050399,
     "end_time": "2021-05-17T11:42:30.865335",
     "exception": false,
     "start_time": "2021-05-17T11:42:30.814936",
     "status": "completed"
    },
    "tags": []
   },
   "outputs": [],
   "source": [
    "train.drop(['Id'],axis=1,inplace=True)"
   ]
  },
  {
   "cell_type": "code",
   "execution_count": 17,
   "id": "unsigned-plaza",
   "metadata": {
    "execution": {
     "iopub.execute_input": "2021-05-17T11:42:30.957083Z",
     "iopub.status.busy": "2021-05-17T11:42:30.956010Z",
     "iopub.status.idle": "2021-05-17T11:42:30.964875Z",
     "shell.execute_reply": "2021-05-17T11:42:30.964359Z"
    },
    "papermill": {
     "duration": 0.059614,
     "end_time": "2021-05-17T11:42:30.965016",
     "exception": false,
     "start_time": "2021-05-17T11:42:30.905402",
     "status": "completed"
    },
    "tags": []
   },
   "outputs": [
    {
     "data": {
      "text/plain": [
       "MSSubClass       0\n",
       "MSZoning         0\n",
       "LotFrontage      0\n",
       "LotArea          0\n",
       "Street           0\n",
       "                ..\n",
       "MoSold           0\n",
       "YrSold           0\n",
       "SaleType         0\n",
       "SaleCondition    0\n",
       "SalePrice        0\n",
       "Length: 75, dtype: int64"
      ]
     },
     "execution_count": 17,
     "metadata": {},
     "output_type": "execute_result"
    }
   ],
   "source": [
    "train.isnull().sum()"
   ]
  },
  {
   "cell_type": "code",
   "execution_count": 18,
   "id": "invisible-player",
   "metadata": {
    "execution": {
     "iopub.execute_input": "2021-05-17T11:42:31.058129Z",
     "iopub.status.busy": "2021-05-17T11:42:31.057461Z",
     "iopub.status.idle": "2021-05-17T11:42:31.061166Z",
     "shell.execute_reply": "2021-05-17T11:42:31.060539Z"
    },
    "papermill": {
     "duration": 0.054844,
     "end_time": "2021-05-17T11:42:31.061302",
     "exception": false,
     "start_time": "2021-05-17T11:42:31.006458",
     "status": "completed"
    },
    "tags": []
   },
   "outputs": [],
   "source": [
    "## There are some missing values left:\n",
    "train['MasVnrArea'] = train['MasVnrArea'].fillna(train['MasVnrArea'].mode()[0])\n",
    "train['MasVnrType'] = train['MasVnrType'].fillna(train['MasVnrType'].mode()[0])"
   ]
  },
  {
   "cell_type": "code",
   "execution_count": 19,
   "id": "later-chapel",
   "metadata": {
    "execution": {
     "iopub.execute_input": "2021-05-17T11:42:31.156607Z",
     "iopub.status.busy": "2021-05-17T11:42:31.155891Z",
     "iopub.status.idle": "2021-05-17T11:42:32.314532Z",
     "shell.execute_reply": "2021-05-17T11:42:32.315035Z"
    },
    "papermill": {
     "duration": 1.212281,
     "end_time": "2021-05-17T11:42:32.315375",
     "exception": false,
     "start_time": "2021-05-17T11:42:31.103094",
     "status": "completed"
    },
    "tags": []
   },
   "outputs": [
    {
     "data": {
      "text/plain": [
       "<AxesSubplot:>"
      ]
     },
     "execution_count": 19,
     "metadata": {},
     "output_type": "execute_result"
    },
    {
     "data": {
      "image/png": "[encoded data removed]",
      "text/plain": [
       "<Figure size 1152x648 with 2 Axes>"
      ]
     },
     "metadata": {
      "needs_background": "light"
     },
     "output_type": "display_data"
    }
   ],
   "source": [
    "plt.figure(figsize=(16,9))\n",
    "sns.heatmap(train.isnull())"
   ]
  },
  {
   "cell_type": "code",
   "execution_count": 20,
   "id": "crazy-hardwood",
   "metadata": {
    "execution": {
     "iopub.execute_input": "2021-05-17T11:42:32.407586Z",
     "iopub.status.busy": "2021-05-17T11:42:32.406659Z",
     "iopub.status.idle": "2021-05-17T11:42:32.423361Z",
     "shell.execute_reply": "2021-05-17T11:42:32.422704Z"
    },
    "papermill": {
     "duration": 0.064034,
     "end_time": "2021-05-17T11:42:32.423498",
     "exception": false,
     "start_time": "2021-05-17T11:42:32.359464",
     "status": "completed"
    },
    "tags": []
   },
   "outputs": [],
   "source": [
    "# Lets drop the leftover na values\n",
    "train.dropna(inplace=True)"
   ]
  },
  {
   "cell_type": "code",
   "execution_count": 21,
   "id": "attempted-counter",
   "metadata": {
    "execution": {
     "iopub.execute_input": "2021-05-17T11:42:32.523499Z",
     "iopub.status.busy": "2021-05-17T11:42:32.522282Z",
     "iopub.status.idle": "2021-05-17T11:42:33.311192Z",
     "shell.execute_reply": "2021-05-17T11:42:33.310583Z"
    },
    "papermill": {
     "duration": 0.844796,
     "end_time": "2021-05-17T11:42:33.311383",
     "exception": false,
     "start_time": "2021-05-17T11:42:32.466587",
     "status": "completed"
    },
    "tags": []
   },
   "outputs": [
    {
     "data": {
      "text/plain": [
       "<AxesSubplot:>"
      ]
     },
     "execution_count": 21,
     "metadata": {},
     "output_type": "execute_result"
    },
    {
     "data": {
      "image/png": "[encoded data removed]",
      "text/plain": [
       "<Figure size 432x288 with 2 Axes>"
      ]
     },
     "metadata": {
      "needs_background": "light"
     },
     "output_type": "display_data"
    }
   ],
   "source": [
    "sns.heatmap(train.isnull())"
   ]
  },
  {
   "cell_type": "markdown",
   "id": "korean-ivory",
   "metadata": {
    "papermill": {
     "duration": 0.045978,
     "end_time": "2021-05-17T11:42:33.404256",
     "exception": false,
     "start_time": "2021-05-17T11:42:33.358278",
     "status": "completed"
    },
    "tags": []
   },
   "source": [
    "## Handle Categorical Values:"
   ]
  },
  {
   "cell_type": "code",
   "execution_count": 22,
   "id": "bigger-station",
   "metadata": {
    "execution": {
     "iopub.execute_input": "2021-05-17T11:42:33.504949Z",
     "iopub.status.busy": "2021-05-17T11:42:33.504108Z",
     "iopub.status.idle": "2021-05-17T11:42:33.508962Z",
     "shell.execute_reply": "2021-05-17T11:42:33.508363Z"
    },
    "papermill": {
     "duration": 0.057432,
     "end_time": "2021-05-17T11:42:33.509098",
     "exception": false,
     "start_time": "2021-05-17T11:42:33.451666",
     "status": "completed"
    },
    "tags": []
   },
   "outputs": [
    {
     "data": {
      "text/plain": [
       "39"
      ]
     },
     "execution_count": 22,
     "metadata": {},
     "output_type": "execute_result"
    }
   ],
   "source": [
    "# cat_val = train.select_dtypes(exclude=[np.number])\n",
    "# cat_val.columns\n",
    "cat_val = ['MSZoning', 'Street', 'LotShape', 'LandContour', 'Utilities','LotConfig', 'LandSlope', 'Neighborhood', 'Condition1', 'Condition2','BldgType', 'HouseStyle', 'RoofStyle', 'RoofMatl', 'Exterior1st','Exterior2nd', 'MasVnrType', 'ExterQual', 'ExterCond', 'Foundation','BsmtQual', 'BsmtCond', 'BsmtExposure', 'BsmtFinType1', 'BsmtFinType2','Heating', 'HeatingQC', 'CentralAir', 'Electrical', 'KitchenQual','Functional', 'FireplaceQu', 'GarageType', 'GarageFinish', 'GarageQual', 'GarageCond', 'PavedDrive', 'SaleType', 'SaleCondition']\n",
    "len(cat_val)"
   ]
  },
  {
   "cell_type": "code",
   "execution_count": 23,
   "id": "regulated-thing",
   "metadata": {
    "execution": {
     "iopub.execute_input": "2021-05-17T11:42:33.607005Z",
     "iopub.status.busy": "2021-05-17T11:42:33.606136Z",
     "iopub.status.idle": "2021-05-17T11:42:33.610304Z",
     "shell.execute_reply": "2021-05-17T11:42:33.609518Z"
    },
    "papermill": {
     "duration": 0.056191,
     "end_time": "2021-05-17T11:42:33.610534",
     "exception": false,
     "start_time": "2021-05-17T11:42:33.554343",
     "status": "completed"
    },
    "tags": []
   },
   "outputs": [],
   "source": [
    "## With the help of OneHot Multivalues Encoding lets encode the data:\n",
    "def onehot_encod(multcols):\n",
    "  train_1 = train_2\n",
    "  i = 0\n",
    "  for cols in multcols:\n",
    "    print(cols)\n",
    "    train_3 = pd.get_dummies(train_2[cols],drop_first=True)\n",
    "    train_2.drop([cols],axis=1,inplace=True)\n",
    "    if i==0:\n",
    "      train_1 = train_3.copy()\n",
    "    else:\n",
    "      train_1 = pd.concat((train_1,train_3))\n",
    "    i+=1\n",
    "  train_1 = pd.concat((train_2,train_1))\n",
    "  return train_1"
   ]
  },
  {
   "cell_type": "code",
   "execution_count": 24,
   "id": "least-municipality",
   "metadata": {
    "execution": {
     "iopub.execute_input": "2021-05-17T11:42:33.714008Z",
     "iopub.status.busy": "2021-05-17T11:42:33.713278Z",
     "iopub.status.idle": "2021-05-17T11:42:33.717152Z",
     "shell.execute_reply": "2021-05-17T11:42:33.716260Z"
    },
    "papermill": {
     "duration": 0.056937,
     "end_time": "2021-05-17T11:42:33.717368",
     "exception": false,
     "start_time": "2021-05-17T11:42:33.660431",
     "status": "completed"
    },
    "tags": []
   },
   "outputs": [],
   "source": [
    "# Creating a copy of the cleaned data:\n",
    "copy_train = train.copy()"
   ]
  },
  {
   "cell_type": "markdown",
   "id": "constant-stick",
   "metadata": {
    "papermill": {
     "duration": 0.047127,
     "end_time": "2021-05-17T11:42:33.812307",
     "exception": false,
     "start_time": "2021-05-17T11:42:33.765180",
     "status": "completed"
    },
    "tags": []
   },
   "source": [
    "## Training data Cleaning:"
   ]
  },
  {
   "cell_type": "code",
   "execution_count": 25,
   "id": "everyday-stylus",
   "metadata": {
    "execution": {
     "iopub.execute_input": "2021-05-17T11:42:33.919125Z",
     "iopub.status.busy": "2021-05-17T11:42:33.918446Z",
     "iopub.status.idle": "2021-05-17T11:42:33.926498Z",
     "shell.execute_reply": "2021-05-17T11:42:33.925892Z"
    },
    "papermill": {
     "duration": 0.065557,
     "end_time": "2021-05-17T11:42:33.926676",
     "exception": false,
     "start_time": "2021-05-17T11:42:33.861119",
     "status": "completed"
    },
    "tags": []
   },
   "outputs": [
    {
     "data": {
      "text/plain": [
       "Id                 0\n",
       "MSSubClass         0\n",
       "MSZoning           4\n",
       "LotFrontage      227\n",
       "LotArea            0\n",
       "                ... \n",
       "MiscVal            0\n",
       "MoSold             0\n",
       "YrSold             0\n",
       "SaleType           1\n",
       "SaleCondition      0\n",
       "Length: 80, dtype: int64"
      ]
     },
     "execution_count": 25,
     "metadata": {},
     "output_type": "execute_result"
    }
   ],
   "source": [
    "test.isnull().sum()"
   ]
  },
  {
   "cell_type": "code",
   "execution_count": 26,
   "id": "transsexual-entrance",
   "metadata": {
    "execution": {
     "iopub.execute_input": "2021-05-17T11:42:34.034143Z",
     "iopub.status.busy": "2021-05-17T11:42:34.033473Z",
     "iopub.status.idle": "2021-05-17T11:42:35.165305Z",
     "shell.execute_reply": "2021-05-17T11:42:35.165853Z"
    },
    "papermill": {
     "duration": 1.191862,
     "end_time": "2021-05-17T11:42:35.166100",
     "exception": false,
     "start_time": "2021-05-17T11:42:33.974238",
     "status": "completed"
    },
    "tags": []
   },
   "outputs": [
    {
     "data": {
      "text/plain": [
       "<AxesSubplot:>"
      ]
     },
     "execution_count": 26,
     "metadata": {},
     "output_type": "execute_result"
    },
    {
     "data": {
      "image/png": "[encoded data removed]",
      "text/plain": [
       "<Figure size 1152x648 with 2 Axes>"
      ]
     },
     "metadata": {
      "needs_background": "light"
     },
     "output_type": "display_data"
    }
   ],
   "source": [
    "plt.figure(figsize=(16,9))\n",
    "sns.heatmap(test.isnull())"
   ]
  },
  {
   "cell_type": "code",
   "execution_count": 27,
   "id": "sustained-activation",
   "metadata": {
    "execution": {
     "iopub.execute_input": "2021-05-17T11:42:35.276006Z",
     "iopub.status.busy": "2021-05-17T11:42:35.275284Z",
     "iopub.status.idle": "2021-05-17T11:42:35.305723Z",
     "shell.execute_reply": "2021-05-17T11:42:35.305120Z"
    },
    "papermill": {
     "duration": 0.0905,
     "end_time": "2021-05-17T11:42:35.305895",
     "exception": false,
     "start_time": "2021-05-17T11:42:35.215395",
     "status": "completed"
    },
    "tags": []
   },
   "outputs": [],
   "source": [
    "test['LotFrontage'] = test['LotFrontage'] .fillna(test['LotFrontage'].mean())\n",
    "test['MSZoning'] = test['MSZoning'].fillna(test['MSZoning'].mode()[0])\n",
    "test.drop(['Alley'],axis=1,inplace=True)\n",
    "test['BsmtCond'] = test['BsmtCond'].fillna(test['BsmtCond'].mode()[0])\n",
    "test['BsmtQual'] = test['BsmtQual'].fillna(test['BsmtQual'].mode()[0])\n",
    "test['BsmtExposure'] = test['BsmtExposure'].fillna(test['BsmtExposure'].mode()[0])\n",
    "test['BsmtFinType2'] = test['BsmtFinType2'].fillna(test['BsmtFinType2'].mode()[0])\n",
    "test['FireplaceQu'] = test['FireplaceQu'].fillna(test['FireplaceQu'].mode()[0])\n",
    "test['GarageType'] = test['GarageType'].fillna(test['GarageType'].mode()[0])\n",
    "test.drop(['GarageYrBlt'],axis=1,inplace=True)\n",
    "test['GarageFinish'] = test['GarageFinish'].fillna(test['GarageFinish'].mode()[0])\n",
    "test['GarageQual'] = test['GarageQual'].fillna(test['GarageQual'].mode()[0])\n",
    "test['GarageCond'] = test['GarageCond'].fillna(test['GarageCond'].mode()[0])\n",
    "test.drop(['PoolQC','Fence','MiscFeature'],axis=1,inplace=True)\n",
    "test['MasVnrArea'] = test['MasVnrArea'].fillna(test['MasVnrArea'].mode()[0])\n",
    "test['MasVnrType'] = test['MasVnrType'].fillna(test['MasVnrType'].mode()[0])\n",
    "test.drop(['Id'],axis=1,inplace=True)"
   ]
  },
  {
   "cell_type": "code",
   "execution_count": 28,
   "id": "aggressive-copyright",
   "metadata": {
    "execution": {
     "iopub.execute_input": "2021-05-17T11:42:35.415689Z",
     "iopub.status.busy": "2021-05-17T11:42:35.415002Z",
     "iopub.status.idle": "2021-05-17T11:42:36.496166Z",
     "shell.execute_reply": "2021-05-17T11:42:36.496697Z"
    },
    "papermill": {
     "duration": 1.142119,
     "end_time": "2021-05-17T11:42:36.496907",
     "exception": false,
     "start_time": "2021-05-17T11:42:35.354788",
     "status": "completed"
    },
    "tags": []
   },
   "outputs": [
    {
     "data": {
      "text/plain": [
       "<AxesSubplot:>"
      ]
     },
     "execution_count": 28,
     "metadata": {},
     "output_type": "execute_result"
    },
    {
     "data": {
      "image/png": "[encoded data removed]",
      "text/plain": [
       "<Figure size 1152x648 with 2 Axes>"
      ]
     },
     "metadata": {
      "needs_background": "light"
     },
     "output_type": "display_data"
    }
   ],
   "source": [
    "plt.figure(figsize=(16,9))\n",
    "sns.heatmap(test.isnull())"
   ]
  },
  {
   "cell_type": "code",
   "execution_count": 29,
   "id": "continent-narrative",
   "metadata": {
    "execution": {
     "iopub.execute_input": "2021-05-17T11:42:36.636372Z",
     "iopub.status.busy": "2021-05-17T11:42:36.635300Z",
     "iopub.status.idle": "2021-05-17T11:42:36.640812Z",
     "shell.execute_reply": "2021-05-17T11:42:36.640217Z"
    },
    "papermill": {
     "duration": 0.091031,
     "end_time": "2021-05-17T11:42:36.640978",
     "exception": false,
     "start_time": "2021-05-17T11:42:36.549947",
     "status": "completed"
    },
    "tags": []
   },
   "outputs": [
    {
     "data": {
      "text/html": [
       "<div>\n",
       "<style scoped>\n",
       "    .dataframe tbody tr th:only-of-type {\n",
       "        vertical-align: middle;\n",
       "    }\n",
       "\n",
       "    .dataframe tbody tr th {\n",
       "        vertical-align: top;\n",
       "    }\n",
       "\n",
       "    .dataframe thead th {\n",
       "        text-align: right;\n",
       "    }\n",
       "</style>\n",
       "<table border=\"1\" class=\"dataframe\">\n",
       "  <thead>\n",
       "    <tr style=\"text-align: right;\">\n",
       "      <th></th>\n",
       "      <th>Utilities</th>\n",
       "      <th>Exterior1st</th>\n",
       "      <th>Exterior2nd</th>\n",
       "      <th>BsmtFinType1</th>\n",
       "      <th>BsmtFinSF1</th>\n",
       "      <th>BsmtFinSF2</th>\n",
       "      <th>BsmtUnfSF</th>\n",
       "      <th>TotalBsmtSF</th>\n",
       "      <th>BsmtFullBath</th>\n",
       "      <th>BsmtHalfBath</th>\n",
       "      <th>KitchenQual</th>\n",
       "      <th>Functional</th>\n",
       "      <th>GarageCars</th>\n",
       "      <th>GarageArea</th>\n",
       "      <th>SaleType</th>\n",
       "    </tr>\n",
       "  </thead>\n",
       "  <tbody>\n",
       "    <tr>\n",
       "      <th>0</th>\n",
       "      <td>AllPub</td>\n",
       "      <td>VinylSd</td>\n",
       "      <td>VinylSd</td>\n",
       "      <td>Rec</td>\n",
       "      <td>468.0</td>\n",
       "      <td>144.0</td>\n",
       "      <td>270.0</td>\n",
       "      <td>882.0</td>\n",
       "      <td>0.0</td>\n",
       "      <td>0.0</td>\n",
       "      <td>TA</td>\n",
       "      <td>Typ</td>\n",
       "      <td>1.0</td>\n",
       "      <td>730.0</td>\n",
       "      <td>WD</td>\n",
       "    </tr>\n",
       "    <tr>\n",
       "      <th>1</th>\n",
       "      <td>AllPub</td>\n",
       "      <td>Wd Sdng</td>\n",
       "      <td>Wd Sdng</td>\n",
       "      <td>ALQ</td>\n",
       "      <td>923.0</td>\n",
       "      <td>0.0</td>\n",
       "      <td>406.0</td>\n",
       "      <td>1329.0</td>\n",
       "      <td>0.0</td>\n",
       "      <td>0.0</td>\n",
       "      <td>Gd</td>\n",
       "      <td>Typ</td>\n",
       "      <td>1.0</td>\n",
       "      <td>312.0</td>\n",
       "      <td>WD</td>\n",
       "    </tr>\n",
       "    <tr>\n",
       "      <th>2</th>\n",
       "      <td>AllPub</td>\n",
       "      <td>VinylSd</td>\n",
       "      <td>VinylSd</td>\n",
       "      <td>GLQ</td>\n",
       "      <td>791.0</td>\n",
       "      <td>0.0</td>\n",
       "      <td>137.0</td>\n",
       "      <td>928.0</td>\n",
       "      <td>0.0</td>\n",
       "      <td>0.0</td>\n",
       "      <td>TA</td>\n",
       "      <td>Typ</td>\n",
       "      <td>2.0</td>\n",
       "      <td>482.0</td>\n",
       "      <td>WD</td>\n",
       "    </tr>\n",
       "    <tr>\n",
       "      <th>3</th>\n",
       "      <td>AllPub</td>\n",
       "      <td>VinylSd</td>\n",
       "      <td>VinylSd</td>\n",
       "      <td>GLQ</td>\n",
       "      <td>602.0</td>\n",
       "      <td>0.0</td>\n",
       "      <td>324.0</td>\n",
       "      <td>926.0</td>\n",
       "      <td>0.0</td>\n",
       "      <td>0.0</td>\n",
       "      <td>Gd</td>\n",
       "      <td>Typ</td>\n",
       "      <td>2.0</td>\n",
       "      <td>470.0</td>\n",
       "      <td>WD</td>\n",
       "    </tr>\n",
       "    <tr>\n",
       "      <th>4</th>\n",
       "      <td>AllPub</td>\n",
       "      <td>HdBoard</td>\n",
       "      <td>HdBoard</td>\n",
       "      <td>ALQ</td>\n",
       "      <td>263.0</td>\n",
       "      <td>0.0</td>\n",
       "      <td>1017.0</td>\n",
       "      <td>1280.0</td>\n",
       "      <td>0.0</td>\n",
       "      <td>0.0</td>\n",
       "      <td>Gd</td>\n",
       "      <td>Typ</td>\n",
       "      <td>2.0</td>\n",
       "      <td>506.0</td>\n",
       "      <td>WD</td>\n",
       "    </tr>\n",
       "  </tbody>\n",
       "</table>\n",
       "</div>"
      ],
      "text/plain": [
       "  Utilities Exterior1st Exterior2nd BsmtFinType1  BsmtFinSF1  BsmtFinSF2  \\\n",
       "0    AllPub     VinylSd     VinylSd          Rec       468.0       144.0   \n",
       "1    AllPub     Wd Sdng     Wd Sdng          ALQ       923.0         0.0   \n",
       "2    AllPub     VinylSd     VinylSd          GLQ       791.0         0.0   \n",
       "3    AllPub     VinylSd     VinylSd          GLQ       602.0         0.0   \n",
       "4    AllPub     HdBoard     HdBoard          ALQ       263.0         0.0   \n",
       "\n",
       "   BsmtUnfSF  TotalBsmtSF  BsmtFullBath  BsmtHalfBath KitchenQual Functional  \\\n",
       "0      270.0        882.0           0.0           0.0          TA        Typ   \n",
       "1      406.0       1329.0           0.0           0.0          Gd        Typ   \n",
       "2      137.0        928.0           0.0           0.0          TA        Typ   \n",
       "3      324.0        926.0           0.0           0.0          Gd        Typ   \n",
       "4     1017.0       1280.0           0.0           0.0          Gd        Typ   \n",
       "\n",
       "   GarageCars  GarageArea SaleType  \n",
       "0         1.0       730.0       WD  \n",
       "1         1.0       312.0       WD  \n",
       "2         2.0       482.0       WD  \n",
       "3         2.0       470.0       WD  \n",
       "4         2.0       506.0       WD  "
      ]
     },
     "execution_count": 29,
     "metadata": {},
     "output_type": "execute_result"
    }
   ],
   "source": [
    "## Lets check for some null values if any:\n",
    "test.loc[:,test.isnull().any()].head()"
   ]
  },
  {
   "cell_type": "code",
   "execution_count": 30,
   "id": "thermal-produce",
   "metadata": {
    "execution": {
     "iopub.execute_input": "2021-05-17T11:42:36.769612Z",
     "iopub.status.busy": "2021-05-17T11:42:36.768269Z",
     "iopub.status.idle": "2021-05-17T11:42:36.781278Z",
     "shell.execute_reply": "2021-05-17T11:42:36.780586Z"
    },
    "papermill": {
     "duration": 0.085974,
     "end_time": "2021-05-17T11:42:36.781466",
     "exception": false,
     "start_time": "2021-05-17T11:42:36.695492",
     "status": "completed"
    },
    "tags": []
   },
   "outputs": [],
   "source": [
    "test['Utilities'] = test['Utilities'].fillna(test['Utilities'].mode()[0])\n",
    "test['Exterior1st'] = test['Exterior1st'].fillna(test['Exterior1st'].mode()[0])\n",
    "test['Exterior2nd'] = test['Exterior2nd'].fillna(test['Exterior2nd'].mode()[0])\n",
    "test['BsmtFinType1'] = test['BsmtFinType1'].fillna(test['BsmtFinType1'].mode()[0])\n",
    "test['BsmtFinSF1'] = test['BsmtFinSF1'].fillna(test['BsmtFinSF1'].mean())\n",
    "test['BsmtFinSF2'] = test['BsmtFinSF2'].fillna(test['BsmtFinSF2'].mean())\n",
    "test['BsmtUnfSF'] = test['BsmtUnfSF'].fillna(test['BsmtUnfSF'].mean())\n",
    "test['TotalBsmtSF'] = test['TotalBsmtSF'].fillna(test['TotalBsmtSF'].mean())\n",
    "test['BsmtFullBath'] = test['BsmtFullBath'].fillna(test['BsmtFullBath'].mode()[0])\n",
    "test['BsmtHalfBath'] = test['BsmtHalfBath'].fillna(test['BsmtHalfBath'].mode()[0])\n",
    "test['KitchenQual'] = test['KitchenQual'].fillna(test['KitchenQual'].mode()[0])\n",
    "test['Functional'] = test['Functional'].fillna(test['Functional'].mode()[0])\n",
    "test['GarageCars'] = test['GarageCars'].fillna(test['GarageCars'].mean())\n",
    "test['GarageArea'] = test['GarageArea'].fillna(test['GarageArea'].mean())\n",
    "test['SaleType'] = test['SaleType'].fillna(test['SaleType'].mode()[0])"
   ]
  },
  {
   "cell_type": "code",
   "execution_count": 31,
   "id": "direct-greensboro",
   "metadata": {
    "execution": {
     "iopub.execute_input": "2021-05-17T11:42:36.897165Z",
     "iopub.status.busy": "2021-05-17T11:42:36.896266Z",
     "iopub.status.idle": "2021-05-17T11:42:36.901006Z",
     "shell.execute_reply": "2021-05-17T11:42:36.901533Z"
    },
    "papermill": {
     "duration": 0.064774,
     "end_time": "2021-05-17T11:42:36.901738",
     "exception": false,
     "start_time": "2021-05-17T11:42:36.836964",
     "status": "completed"
    },
    "tags": []
   },
   "outputs": [
    {
     "data": {
      "text/plain": [
       "(1459, 74)"
      ]
     },
     "execution_count": 31,
     "metadata": {},
     "output_type": "execute_result"
    }
   ],
   "source": [
    "test.shape"
   ]
  },
  {
   "cell_type": "markdown",
   "id": "helpful-hacker",
   "metadata": {
    "papermill": {
     "duration": 0.054764,
     "end_time": "2021-05-17T11:42:37.008991",
     "exception": false,
     "start_time": "2021-05-17T11:42:36.954227",
     "status": "completed"
    },
    "tags": []
   },
   "source": [
    "## Encoding:"
   ]
  },
  {
   "cell_type": "code",
   "execution_count": 32,
   "id": "limited-wednesday",
   "metadata": {
    "execution": {
     "iopub.execute_input": "2021-05-17T11:42:37.135929Z",
     "iopub.status.busy": "2021-05-17T11:42:37.129110Z",
     "iopub.status.idle": "2021-05-17T11:42:37.140145Z",
     "shell.execute_reply": "2021-05-17T11:42:37.139404Z"
    },
    "papermill": {
     "duration": 0.077377,
     "end_time": "2021-05-17T11:42:37.140307",
     "exception": false,
     "start_time": "2021-05-17T11:42:37.062930",
     "status": "completed"
    },
    "tags": []
   },
   "outputs": [],
   "source": [
    "# Concatenating the clean csv:\n",
    "train_2 = pd.concat((train,test))"
   ]
  },
  {
   "cell_type": "code",
   "execution_count": 33,
   "id": "fifty-austria",
   "metadata": {
    "execution": {
     "iopub.execute_input": "2021-05-17T11:42:37.253180Z",
     "iopub.status.busy": "2021-05-17T11:42:37.252521Z",
     "iopub.status.idle": "2021-05-17T11:42:37.259587Z",
     "shell.execute_reply": "2021-05-17T11:42:37.260077Z"
    },
    "papermill": {
     "duration": 0.065077,
     "end_time": "2021-05-17T11:42:37.260267",
     "exception": false,
     "start_time": "2021-05-17T11:42:37.195190",
     "status": "completed"
    },
    "tags": []
   },
   "outputs": [
    {
     "data": {
      "text/plain": [
       "0       208500.0\n",
       "1       181500.0\n",
       "2       223500.0\n",
       "3       140000.0\n",
       "4       250000.0\n",
       "          ...   \n",
       "1454         NaN\n",
       "1455         NaN\n",
       "1456         NaN\n",
       "1457         NaN\n",
       "1458         NaN\n",
       "Name: SalePrice, Length: 2881, dtype: float64"
      ]
     },
     "execution_count": 33,
     "metadata": {},
     "output_type": "execute_result"
    }
   ],
   "source": [
    "train_2['SalePrice']"
   ]
  },
  {
   "cell_type": "code",
   "execution_count": 34,
   "id": "increasing-textbook",
   "metadata": {
    "execution": {
     "iopub.execute_input": "2021-05-17T11:42:37.375595Z",
     "iopub.status.busy": "2021-05-17T11:42:37.374818Z",
     "iopub.status.idle": "2021-05-17T11:42:37.380816Z",
     "shell.execute_reply": "2021-05-17T11:42:37.380063Z"
    },
    "papermill": {
     "duration": 0.064491,
     "end_time": "2021-05-17T11:42:37.380981",
     "exception": false,
     "start_time": "2021-05-17T11:42:37.316490",
     "status": "completed"
    },
    "tags": []
   },
   "outputs": [
    {
     "data": {
      "text/plain": [
       "(2881, 75)"
      ]
     },
     "execution_count": 34,
     "metadata": {},
     "output_type": "execute_result"
    }
   ],
   "source": [
    "train_2.shape"
   ]
  },
  {
   "cell_type": "code",
   "execution_count": 35,
   "id": "australian-sender",
   "metadata": {
    "execution": {
     "iopub.execute_input": "2021-05-17T11:42:37.493336Z",
     "iopub.status.busy": "2021-05-17T11:42:37.492704Z",
     "iopub.status.idle": "2021-05-17T11:42:40.156792Z",
     "shell.execute_reply": "2021-05-17T11:42:40.156191Z"
    },
    "papermill": {
     "duration": 2.7222,
     "end_time": "2021-05-17T11:42:40.156955",
     "exception": false,
     "start_time": "2021-05-17T11:42:37.434755",
     "status": "completed"
    },
    "tags": []
   },
   "outputs": [
    {
     "name": "stdout",
     "output_type": "stream",
     "text": [
      "MSZoning\n",
      "Street\n",
      "LotShape\n",
      "LandContour\n",
      "Utilities\n",
      "LotConfig\n",
      "LandSlope\n",
      "Neighborhood\n",
      "Condition1\n",
      "Condition2\n",
      "BldgType\n",
      "HouseStyle\n",
      "RoofStyle\n",
      "RoofMatl\n",
      "Exterior1st\n",
      "Exterior2nd\n",
      "MasVnrType\n",
      "ExterQual\n",
      "ExterCond\n",
      "Foundation\n",
      "BsmtQual\n",
      "BsmtCond\n",
      "BsmtExposure\n",
      "BsmtFinType1\n",
      "BsmtFinType2\n",
      "Heating\n",
      "HeatingQC\n",
      "CentralAir\n",
      "Electrical\n",
      "KitchenQual\n",
      "Functional\n",
      "FireplaceQu\n",
      "GarageType\n",
      "GarageFinish\n",
      "GarageQual\n",
      "GarageCond\n",
      "PavedDrive\n",
      "SaleType\n",
      "SaleCondition\n"
     ]
    }
   ],
   "source": [
    "# Now lets send it to OnehotEncoding:\n",
    "train_2 = onehot_encod(cat_val)"
   ]
  },
  {
   "cell_type": "code",
   "execution_count": 36,
   "id": "vocal-lodge",
   "metadata": {
    "execution": {
     "iopub.execute_input": "2021-05-17T11:42:40.277953Z",
     "iopub.status.busy": "2021-05-17T11:42:40.277184Z",
     "iopub.status.idle": "2021-05-17T11:42:40.280998Z",
     "shell.execute_reply": "2021-05-17T11:42:40.280370Z"
    },
    "papermill": {
     "duration": 0.066784,
     "end_time": "2021-05-17T11:42:40.281157",
     "exception": false,
     "start_time": "2021-05-17T11:42:40.214373",
     "status": "completed"
    },
    "tags": []
   },
   "outputs": [
    {
     "data": {
      "text/plain": [
       "(115240, 175)"
      ]
     },
     "execution_count": 36,
     "metadata": {},
     "output_type": "execute_result"
    }
   ],
   "source": [
    "train_2.shape"
   ]
  },
  {
   "cell_type": "code",
   "execution_count": 37,
   "id": "oriental-drink",
   "metadata": {
    "execution": {
     "iopub.execute_input": "2021-05-17T11:42:40.409080Z",
     "iopub.status.busy": "2021-05-17T11:42:40.407948Z",
     "iopub.status.idle": "2021-05-17T11:42:40.906832Z",
     "shell.execute_reply": "2021-05-17T11:42:40.906160Z"
    },
    "papermill": {
     "duration": 0.56468,
     "end_time": "2021-05-17T11:42:40.906975",
     "exception": false,
     "start_time": "2021-05-17T11:42:40.342295",
     "status": "completed"
    },
    "tags": []
   },
   "outputs": [
    {
     "data": {
      "text/plain": [
       "(3085, 175)"
      ]
     },
     "execution_count": 37,
     "metadata": {},
     "output_type": "execute_result"
    }
   ],
   "source": [
    "## Now by deleting all the duplicate values:\n",
    "train_2.drop_duplicates(inplace=True)\n",
    "train_2.shape"
   ]
  },
  {
   "cell_type": "code",
   "execution_count": 38,
   "id": "peripheral-hearing",
   "metadata": {
    "execution": {
     "iopub.execute_input": "2021-05-17T11:42:41.029855Z",
     "iopub.status.busy": "2021-05-17T11:42:41.028927Z",
     "iopub.status.idle": "2021-05-17T11:42:41.035785Z",
     "shell.execute_reply": "2021-05-17T11:42:41.035240Z"
    },
    "papermill": {
     "duration": 0.071394,
     "end_time": "2021-05-17T11:42:41.035925",
     "exception": false,
     "start_time": "2021-05-17T11:42:40.964531",
     "status": "completed"
    },
    "tags": []
   },
   "outputs": [
    {
     "name": "stdout",
     "output_type": "stream",
     "text": [
      "(1422, 175)\n"
     ]
    },
    {
     "data": {
      "text/plain": [
       "(1459, 175)"
      ]
     },
     "execution_count": 38,
     "metadata": {},
     "output_type": "execute_result"
    }
   ],
   "source": [
    "train = train_2.iloc[:1422,:]\n",
    "test = train_2.iloc[1422:2881,:]\n",
    "print(train.shape)\n",
    "test.shape"
   ]
  },
  {
   "cell_type": "code",
   "execution_count": 39,
   "id": "phantom-freight",
   "metadata": {
    "execution": {
     "iopub.execute_input": "2021-05-17T11:42:41.161969Z",
     "iopub.status.busy": "2021-05-17T11:42:41.161293Z",
     "iopub.status.idle": "2021-05-17T11:42:41.169529Z",
     "shell.execute_reply": "2021-05-17T11:42:41.168722Z"
    },
    "papermill": {
     "duration": 0.074928,
     "end_time": "2021-05-17T11:42:41.169738",
     "exception": false,
     "start_time": "2021-05-17T11:42:41.094810",
     "status": "completed"
    },
    "tags": []
   },
   "outputs": [
    {
     "name": "stderr",
     "output_type": "stream",
     "text": [
      "/opt/conda/lib/python3.7/site-packages/pandas/core/frame.py:4315: SettingWithCopyWarning: \n",
      "A value is trying to be set on a copy of a slice from a DataFrame\n",
      "\n",
      "See the caveats in the documentation: https://pandas.pydata.org/pandas-docs/stable/user_guide/indexing.html#returning-a-view-versus-a-copy\n",
      "  errors=errors,\n"
     ]
    }
   ],
   "source": [
    "test.drop(['SalePrice'],axis=1,inplace=True)"
   ]
  },
  {
   "cell_type": "markdown",
   "id": "domestic-capacity",
   "metadata": {
    "papermill": {
     "duration": 0.05938,
     "end_time": "2021-05-17T11:42:41.289496",
     "exception": false,
     "start_time": "2021-05-17T11:42:41.230116",
     "status": "completed"
    },
    "tags": []
   },
   "source": [
    "# Applying Algorithm and Predictions:"
   ]
  },
  {
   "cell_type": "code",
   "execution_count": 40,
   "id": "residential-attraction",
   "metadata": {
    "execution": {
     "iopub.execute_input": "2021-05-17T11:42:41.416531Z",
     "iopub.status.busy": "2021-05-17T11:42:41.415786Z",
     "iopub.status.idle": "2021-05-17T11:42:41.417607Z",
     "shell.execute_reply": "2021-05-17T11:42:41.418054Z"
    },
    "papermill": {
     "duration": 0.069532,
     "end_time": "2021-05-17T11:42:41.418260",
     "exception": false,
     "start_time": "2021-05-17T11:42:41.348728",
     "status": "completed"
    },
    "tags": []
   },
   "outputs": [],
   "source": [
    "X_train = train.drop(['SalePrice'],axis=1)\n",
    "y_train = train['SalePrice']"
   ]
  },
  {
   "cell_type": "code",
   "execution_count": 41,
   "id": "legendary-sunday",
   "metadata": {
    "execution": {
     "iopub.execute_input": "2021-05-17T11:42:41.546517Z",
     "iopub.status.busy": "2021-05-17T11:42:41.545843Z",
     "iopub.status.idle": "2021-05-17T11:42:41.576232Z",
     "shell.execute_reply": "2021-05-17T11:42:41.575565Z"
    },
    "papermill": {
     "duration": 0.095938,
     "end_time": "2021-05-17T11:42:41.576432",
     "exception": false,
     "start_time": "2021-05-17T11:42:41.480494",
     "status": "completed"
    },
    "tags": []
   },
   "outputs": [
    {
     "data": {
      "text/html": [
       "<div>\n",
       "<style scoped>\n",
       "    .dataframe tbody tr th:only-of-type {\n",
       "        vertical-align: middle;\n",
       "    }\n",
       "\n",
       "    .dataframe tbody tr th {\n",
       "        vertical-align: top;\n",
       "    }\n",
       "\n",
       "    .dataframe thead th {\n",
       "        text-align: right;\n",
       "    }\n",
       "</style>\n",
       "<table border=\"1\" class=\"dataframe\">\n",
       "  <thead>\n",
       "    <tr style=\"text-align: right;\">\n",
       "      <th></th>\n",
       "      <th>MSSubClass</th>\n",
       "      <th>LotFrontage</th>\n",
       "      <th>LotArea</th>\n",
       "      <th>OverallQual</th>\n",
       "      <th>OverallCond</th>\n",
       "      <th>YearBuilt</th>\n",
       "      <th>YearRemodAdd</th>\n",
       "      <th>MasVnrArea</th>\n",
       "      <th>BsmtFinSF1</th>\n",
       "      <th>BsmtFinSF2</th>\n",
       "      <th>...</th>\n",
       "      <th>ConLI</th>\n",
       "      <th>ConLw</th>\n",
       "      <th>New</th>\n",
       "      <th>Oth</th>\n",
       "      <th>WD</th>\n",
       "      <th>AdjLand</th>\n",
       "      <th>Alloca</th>\n",
       "      <th>Family</th>\n",
       "      <th>Normal</th>\n",
       "      <th>Partial</th>\n",
       "    </tr>\n",
       "  </thead>\n",
       "  <tbody>\n",
       "    <tr>\n",
       "      <th>1454</th>\n",
       "      <td>160.0</td>\n",
       "      <td>21.0</td>\n",
       "      <td>1936.0</td>\n",
       "      <td>4.0</td>\n",
       "      <td>7.0</td>\n",
       "      <td>1970.0</td>\n",
       "      <td>1970.0</td>\n",
       "      <td>0.0</td>\n",
       "      <td>0.0</td>\n",
       "      <td>0.0</td>\n",
       "      <td>...</td>\n",
       "      <td>NaN</td>\n",
       "      <td>NaN</td>\n",
       "      <td>NaN</td>\n",
       "      <td>NaN</td>\n",
       "      <td>NaN</td>\n",
       "      <td>NaN</td>\n",
       "      <td>NaN</td>\n",
       "      <td>NaN</td>\n",
       "      <td>NaN</td>\n",
       "      <td>NaN</td>\n",
       "    </tr>\n",
       "    <tr>\n",
       "      <th>1455</th>\n",
       "      <td>160.0</td>\n",
       "      <td>21.0</td>\n",
       "      <td>1894.0</td>\n",
       "      <td>4.0</td>\n",
       "      <td>5.0</td>\n",
       "      <td>1970.0</td>\n",
       "      <td>1970.0</td>\n",
       "      <td>0.0</td>\n",
       "      <td>252.0</td>\n",
       "      <td>0.0</td>\n",
       "      <td>...</td>\n",
       "      <td>NaN</td>\n",
       "      <td>NaN</td>\n",
       "      <td>NaN</td>\n",
       "      <td>NaN</td>\n",
       "      <td>NaN</td>\n",
       "      <td>NaN</td>\n",
       "      <td>NaN</td>\n",
       "      <td>NaN</td>\n",
       "      <td>NaN</td>\n",
       "      <td>NaN</td>\n",
       "    </tr>\n",
       "    <tr>\n",
       "      <th>1456</th>\n",
       "      <td>20.0</td>\n",
       "      <td>160.0</td>\n",
       "      <td>20000.0</td>\n",
       "      <td>5.0</td>\n",
       "      <td>7.0</td>\n",
       "      <td>1960.0</td>\n",
       "      <td>1996.0</td>\n",
       "      <td>0.0</td>\n",
       "      <td>1224.0</td>\n",
       "      <td>0.0</td>\n",
       "      <td>...</td>\n",
       "      <td>NaN</td>\n",
       "      <td>NaN</td>\n",
       "      <td>NaN</td>\n",
       "      <td>NaN</td>\n",
       "      <td>NaN</td>\n",
       "      <td>NaN</td>\n",
       "      <td>NaN</td>\n",
       "      <td>NaN</td>\n",
       "      <td>NaN</td>\n",
       "      <td>NaN</td>\n",
       "    </tr>\n",
       "    <tr>\n",
       "      <th>1457</th>\n",
       "      <td>85.0</td>\n",
       "      <td>62.0</td>\n",
       "      <td>10441.0</td>\n",
       "      <td>5.0</td>\n",
       "      <td>5.0</td>\n",
       "      <td>1992.0</td>\n",
       "      <td>1992.0</td>\n",
       "      <td>0.0</td>\n",
       "      <td>337.0</td>\n",
       "      <td>0.0</td>\n",
       "      <td>...</td>\n",
       "      <td>NaN</td>\n",
       "      <td>NaN</td>\n",
       "      <td>NaN</td>\n",
       "      <td>NaN</td>\n",
       "      <td>NaN</td>\n",
       "      <td>NaN</td>\n",
       "      <td>NaN</td>\n",
       "      <td>NaN</td>\n",
       "      <td>NaN</td>\n",
       "      <td>NaN</td>\n",
       "    </tr>\n",
       "    <tr>\n",
       "      <th>1458</th>\n",
       "      <td>60.0</td>\n",
       "      <td>74.0</td>\n",
       "      <td>9627.0</td>\n",
       "      <td>7.0</td>\n",
       "      <td>5.0</td>\n",
       "      <td>1993.0</td>\n",
       "      <td>1994.0</td>\n",
       "      <td>94.0</td>\n",
       "      <td>758.0</td>\n",
       "      <td>0.0</td>\n",
       "      <td>...</td>\n",
       "      <td>NaN</td>\n",
       "      <td>NaN</td>\n",
       "      <td>NaN</td>\n",
       "      <td>NaN</td>\n",
       "      <td>NaN</td>\n",
       "      <td>NaN</td>\n",
       "      <td>NaN</td>\n",
       "      <td>NaN</td>\n",
       "      <td>NaN</td>\n",
       "      <td>NaN</td>\n",
       "    </tr>\n",
       "  </tbody>\n",
       "</table>\n",
       "<p>5 rows × 174 columns</p>\n",
       "</div>"
      ],
      "text/plain": [
       "      MSSubClass  LotFrontage  LotArea  OverallQual  OverallCond  YearBuilt  \\\n",
       "1454       160.0         21.0   1936.0          4.0          7.0     1970.0   \n",
       "1455       160.0         21.0   1894.0          4.0          5.0     1970.0   \n",
       "1456        20.0        160.0  20000.0          5.0          7.0     1960.0   \n",
       "1457        85.0         62.0  10441.0          5.0          5.0     1992.0   \n",
       "1458        60.0         74.0   9627.0          7.0          5.0     1993.0   \n",
       "\n",
       "      YearRemodAdd  MasVnrArea  BsmtFinSF1  BsmtFinSF2  ...  ConLI  ConLw  \\\n",
       "1454        1970.0         0.0         0.0         0.0  ...    NaN    NaN   \n",
       "1455        1970.0         0.0       252.0         0.0  ...    NaN    NaN   \n",
       "1456        1996.0         0.0      1224.0         0.0  ...    NaN    NaN   \n",
       "1457        1992.0         0.0       337.0         0.0  ...    NaN    NaN   \n",
       "1458        1994.0        94.0       758.0         0.0  ...    NaN    NaN   \n",
       "\n",
       "      New  Oth  WD  AdjLand  Alloca  Family  Normal  Partial  \n",
       "1454  NaN  NaN NaN      NaN     NaN     NaN     NaN      NaN  \n",
       "1455  NaN  NaN NaN      NaN     NaN     NaN     NaN      NaN  \n",
       "1456  NaN  NaN NaN      NaN     NaN     NaN     NaN      NaN  \n",
       "1457  NaN  NaN NaN      NaN     NaN     NaN     NaN      NaN  \n",
       "1458  NaN  NaN NaN      NaN     NaN     NaN     NaN      NaN  \n",
       "\n",
       "[5 rows x 174 columns]"
      ]
     },
     "execution_count": 41,
     "metadata": {},
     "output_type": "execute_result"
    }
   ],
   "source": [
    "test.tail()"
   ]
  },
  {
   "cell_type": "markdown",
   "id": "emotional-increase",
   "metadata": {
    "papermill": {
     "duration": 0.059645,
     "end_time": "2021-05-17T11:42:41.699291",
     "exception": false,
     "start_time": "2021-05-17T11:42:41.639646",
     "status": "completed"
    },
    "tags": []
   },
   "source": [
    "## XGBoost:"
   ]
  },
  {
   "cell_type": "code",
   "execution_count": 42,
   "id": "political-window",
   "metadata": {
    "execution": {
     "iopub.execute_input": "2021-05-17T11:42:41.824044Z",
     "iopub.status.busy": "2021-05-17T11:42:41.823424Z",
     "iopub.status.idle": "2021-05-17T11:42:45.743142Z",
     "shell.execute_reply": "2021-05-17T11:42:45.743936Z"
    },
    "papermill": {
     "duration": 3.985742,
     "end_time": "2021-05-17T11:42:45.744222",
     "exception": false,
     "start_time": "2021-05-17T11:42:41.758480",
     "status": "completed"
    },
    "tags": []
   },
   "outputs": [
    {
     "name": "stdout",
     "output_type": "stream",
     "text": [
      "[11:42:41] WARNING: ../src/learner.cc:573: \n",
      "Parameters: { \"early_stopping_rounds\" } might not be used.\n",
      "\n",
      "  This may not be accurate due to some parameters are only used in language bindings but\n",
      "  passed down to XGBoost core.  Or some parameters are not used but slip through this\n",
      "  verification. Please open an issue if you find above cases.\n",
      "\n",
      "\n"
     ]
    },
    {
     "name": "stderr",
     "output_type": "stream",
     "text": [
      "/opt/conda/lib/python3.7/site-packages/xgboost/data.py:114: UserWarning: Use subset (sliced data) of np.ndarray is not recommended because it will generate extra copies and increase memory consumption\n",
      "  \"because it will generate extra copies and increase \" +\n"
     ]
    }
   ],
   "source": [
    "import xgboost as xgb\n",
    "regressor = xgb.XGBRegressor(n_estimators=1000,learning_rate=0.01,early_stopping_rounds=10)\n",
    "regressor.fit(X_train,y_train)\n",
    "y_pred = regressor.predict(test)"
   ]
  },
  {
   "cell_type": "code",
   "execution_count": 43,
   "id": "double-london",
   "metadata": {
    "execution": {
     "iopub.execute_input": "2021-05-17T11:42:45.881461Z",
     "iopub.status.busy": "2021-05-17T11:42:45.880639Z",
     "iopub.status.idle": "2021-05-17T11:42:45.901178Z",
     "shell.execute_reply": "2021-05-17T11:42:45.900491Z"
    },
    "papermill": {
     "duration": 0.088234,
     "end_time": "2021-05-17T11:42:45.901355",
     "exception": false,
     "start_time": "2021-05-17T11:42:45.813121",
     "status": "completed"
    },
    "tags": []
   },
   "outputs": [],
   "source": [
    "pred = pd.DataFrame(y_pred)\n",
    "sub_file = pd.read_csv('../input/house-prices-advanced-regression-techniques/sample_submission.csv')\n",
    "xg_pred = pd.concat([sub_file['Id'],pred],axis=1)\n",
    "xg_pred.columns=['Id','SalePrice']\n",
    "xg_pred.to_csv('./xgbnono_O_2.csv',index=False)"
   ]
  },
  {
   "cell_type": "markdown",
   "id": "accessible-solution",
   "metadata": {
    "papermill": {
     "duration": 0.061607,
     "end_time": "2021-05-17T11:42:46.024308",
     "exception": false,
     "start_time": "2021-05-17T11:42:45.962701",
     "status": "completed"
    },
    "tags": []
   },
   "source": [
    "# --------------------------------------------------------------------------"
   ]
  },
  {
   "cell_type": "code",
   "execution_count": null,
   "id": "quiet-external",
   "metadata": {
    "papermill": {
     "duration": 0.061942,
     "end_time": "2021-05-17T11:42:46.147808",
     "exception": false,
     "start_time": "2021-05-17T11:42:46.085866",
     "status": "completed"
    },
    "tags": []
   },
   "outputs": [],
   "source": []
  }
 ],
 "metadata": {
  "kernelspec": {
   "display_name": "Python 3",
   "language": "python",
   "name": "python3"
  },
  "language_info": {
   "codemirror_mode": {
    "name": "ipython",
    "version": 3
   },
   "file_extension": ".py",
   "mimetype": "text/x-python",
   "name": "python",
   "nbconvert_exporter": "python",
   "pygments_lexer": "ipython3",
   "version": "3.7.10"
  },
  "papermill": {
   "default_parameters": {},
   "duration": 28.930814,
   "end_time": "2021-05-17T11:42:47.518798",
   "environment_variables": {},
   "exception": null,
   "input_path": "__notebook__.ipynb",
   "output_path": "__notebook__.ipynb",
   "parameters": {},
   "start_time": "2021-05-17T11:42:18.587984",
   "version": "2.3.3"
  }
 },
 "nbformat": 4,
 "nbformat_minor": 5
}
